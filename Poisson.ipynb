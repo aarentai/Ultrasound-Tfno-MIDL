{
 "cells": [
  {
   "cell_type": "markdown",
   "metadata": {},
   "source": [
    "2D Poisson equation: $\\Delta u = f = u_{xx}+u_{yy}$ <br> \n",
    "x element of [0,1] <br> y element of [0,1] <br>\n",
    "u(0,x) = rand[.1,.9] <br> u(1,x) = rand[.1,.9] <br> u(y,0) = rand[.1,.9] <br> u(y,1) = rand[.1,.9], <br> f(x,y) = $\\delta(x-0.5,y-0.5)$ = rand[.1,.9]\n",
    "\n",
    "Discretized equation with 5-point scheme: $\\frac{u^{j}_{i-1}-2u^{j}_{i}+u^{j}_{i+1}}{\\Delta x^2} + \\frac{u^{j-1}_{i}-2u^{j}_{i}+u^{j+1}_{i}}{\\Delta y^2}\n",
    "= \\delta(x-0.5,y-0.5) $ <br>\n",
    "\n",
    "The Dirac delta function is evaluated by setting the center point to the random draw if fidelity is odd or setting the center 2x2 grid to the value if it is even. \n",
    "\n",
    "$\\Delta y = \\Delta x$\n",
    "\n",
    "-> $4u^j_i - u^j_{i-1} - u^{j-1}_i - u^j_{i+1} - u^{j+1}_i = \\Delta x^2 \\delta(x-0.5,y-0.5)$"
   ]
  },
  {
   "cell_type": "code",
   "execution_count": 3,
   "metadata": {},
   "outputs": [],
   "source": [
    "import numpy as np\n",
    "import matplotlib.pyplot as plt\n",
    "import scipy.interpolate"
   ]
  },
  {
   "cell_type": "code",
   "execution_count": 4,
   "metadata": {},
   "outputs": [],
   "source": [
    "from scipy.sparse import csc_matrix\n",
    "from scipy.sparse.linalg import spsolve\n",
    "import time"
   ]
  },
  {
   "cell_type": "code",
   "execution_count": 5,
   "metadata": {},
   "outputs": [],
   "source": [
    "def poisson_solver(fidelity,u_0_x,u_1_x,u_y_0,u_y_1,u_dirac):\n",
    "    # Modifing fidelity so that the BC are included in the result and its easy to change back\n",
    "    fidelity = fidelity - 2\n",
    "    \n",
    "    x = np.linspace(0,1,fidelity)\n",
    "    dx = x[1]-x[0]\n",
    "    y = np.linspace(0,1,fidelity)\n",
    "    u = np.zeros((fidelity+2,fidelity+2)) # Initial u used to create the b-vector in Ax = b\n",
    "    # BC's and dirac delta\n",
    "    u[0,:] = u_0_x\n",
    "    u[-1,:] = u_1_x\n",
    "    u[:,0] = u_y_0\n",
    "    u[:,-1] = u_y_1\n",
    "    \n",
    "    if fidelity%2 == 0:\n",
    "        u[int((fidelity+2)/2-1):int((fidelity+2)/2+1),int((fidelity+2)/2-1):int((fidelity+2)/2+1)] = u_dirac/4\n",
    "    else:\n",
    "        u[int((fidelity+1)/2),int((fidelity+1)/2)] = u_dirac\n",
    "\n",
    "    # 5-point scheme\n",
    "    A = np.zeros((fidelity**2,fidelity**2))\n",
    "    for i in range(fidelity**2):\n",
    "        A[i,i] = 4\n",
    "        if i < fidelity**2-1:\n",
    "            if i%fidelity != fidelity-1:\n",
    "                A[i,i+1] = -1\n",
    "            if i%fidelity != 0 & i-1 >= 0:\n",
    "                A[i,i-1] = -1\n",
    "        if i < fidelity**2-fidelity:\n",
    "            A[i,i+fidelity] = -1\n",
    "            if i-fidelity >= 0:\n",
    "                A[i,i-fidelity] = -1\n",
    "    print(A)\n",
    "    # Boundry conditions\n",
    "    g = np.zeros((fidelity,fidelity))\n",
    "    for i in range(1,fidelity+1):\n",
    "        for j in range(1,fidelity+1):\n",
    "            g[i-1,j-1] = u[i-1,j]+u[i+1,j]+u[i,j-1]+u[i,j+1]\n",
    "\n",
    "    b = dx**2*g.flatten()\n",
    "    x = np.linalg.solve(A,b)\n",
    "    u_interior = x.reshape(fidelity,fidelity)\n",
    "    u_out = u.copy()\n",
    "    u_out[1:-1,1:-1] = u_interior # Replace solved interior points in u which already includeds BC's\n",
    "    \n",
    "    A_s = csc_matrix(A, dtype=float) # s for sparse\n",
    "    b_s = csc_matrix(b, dtype=float)\n",
    "    x_s = spsolve(A_s,b_s.T)\n",
    "    u_s_interior = x_s.reshape(fidelity,fidelity)\n",
    "    u_s_out = u.copy()\n",
    "    u_s_out[1:-1,1:-1] = u_s_interior # Replace solved interior points in u which already includeds BC's\n",
    "    print(u_out)\n",
    "    return u_out, u_s_out,g"
   ]
  },
  {
   "cell_type": "code",
   "execution_count": 13,
   "metadata": {},
   "outputs": [
    {
     "name": "stdout",
     "output_type": "stream",
     "text": [
      "[[ 4. -1.  0. ...  0.  0.  0.]\n",
      " [-1.  4. -1. ...  0.  0.  0.]\n",
      " [ 0. -1.  4. ...  0.  0.  0.]\n",
      " ...\n",
      " [ 0.  0.  0. ...  4. -1.  0.]\n",
      " [ 0.  0.  0. ... -1.  4. -1.]\n",
      " [ 0.  0.  0. ...  0.  0.  4.]]\n",
      "[[5.00000000e+00 1.00000000e-01 1.00000000e-01 ... 1.00000000e-01\n",
      "  1.00000000e-01 5.00000000e+00]\n",
      " [5.00000000e+00 6.85286801e-04 4.24996446e-04 ... 4.24996413e-04\n",
      "  6.85286785e-04 5.00000000e+00]\n",
      " [5.00000000e+00 9.45551457e-04 6.85248253e-04 ... 6.85248187e-04\n",
      "  9.45551424e-04 5.00000000e+00]\n",
      " ...\n",
      " [5.00000000e+00 8.08597221e-04 5.06670480e-04 ... 4.99739615e-04\n",
      "  7.97421952e-04 5.00000000e+00]\n",
      " [5.00000000e+00 3.89560221e-04 1.33892592e-04 ... 1.24923489e-04\n",
      "  3.56087073e-04 5.00000000e+00]\n",
      " [5.00000000e+00 3.00000000e-01 3.00000000e-01 ... 3.00000000e-01\n",
      "  3.00000000e-01 5.00000000e+00]]\n",
      "--- 0.4247145652770996 seconds ---\n"
     ]
    },
    {
     "data": {
      "image/png": "[encoded data removed]",
      "text/plain": [
       "<Figure size 432x288 with 1 Axes>"
      ]
     },
     "metadata": {
      "needs_background": "light"
     },
     "output_type": "display_data"
    }
   ],
   "source": [
    "# Initial Conditions\n",
    "fidelity = 64\n",
    "# BC's\n",
    "#u_0_x = np.random.uniform(.1,.9)\n",
    "#u_1_x = np.random.uniform(.1,.9)\n",
    "#u_y_0 = np.random.uniform(.1,.9)\n",
    "#u_y_1 = np.random.uniform(.1,.9)\n",
    "#u_dirac = np.random.uniform(.1,.9)\n",
    "\n",
    "u_0_x = .1\n",
    "u_1_x = .3\n",
    "u_y_0 = 5\n",
    "u_y_1 = 5\n",
    "u_dirac = 0\n",
    "\n",
    "start_time = time.time()\n",
    "u, u_s,g = poisson_solver(fidelity,u_0_x,u_1_x,u_y_0,u_y_1,u_dirac)\n",
    "print(\"--- %s seconds ---\" % (time.time() - start_time))\n",
    "\n",
    "\n",
    "plt.pcolormesh(np.flipud(u_s[1:-1,1:-1]))\n",
    "plt.xlabel('x')\n",
    "plt.ylabel('y')\n",
    "plt.title('2-D Poisson')\n",
    "plt.show()\n",
    "\n",
    "#plt.pcolormesh(np.flipud(u_s))\n",
    "#plt.xlabel('x')\n",
    "#plt.ylabel('y')\n",
    "#plt.title('2-D Poisson')\n",
    "#plt.show()"
   ]
  },
  {
   "cell_type": "code",
   "execution_count": 12,
   "metadata": {},
   "outputs": [
    {
     "data": {
      "text/plain": [
       "<matplotlib.image.AxesImage at 0x7fc73762da10>"
      ]
     },
     "execution_count": 12,
     "metadata": {},
     "output_type": "execute_result"
    },
    {
     "data": {
      "image/png": "[encoded data removed]",
      "text/plain": [
       "<Figure size 432x288 with 1 Axes>"
      ]
     },
     "metadata": {
      "needs_background": "light"
     },
     "output_type": "display_data"
    }
   ],
   "source": [
    "plt.figure()\n",
    "plt.imshow(g[1:-1,1:-1])"
   ]
  },
  {
   "cell_type": "code",
   "execution_count": 9,
   "metadata": {},
   "outputs": [
    {
     "data": {
      "text/plain": [
       "array([[5.1, 0.1, 0.1, ..., 0.1, 0.1, 5.1],\n",
       "       [5. , 0. , 0. , ..., 0. , 0. , 5. ],\n",
       "       [5. , 0. , 0. , ..., 0. , 0. , 5. ],\n",
       "       ...,\n",
       "       [5. , 0. , 0. , ..., 0. , 0. , 5. ],\n",
       "       [5. , 0. , 0. , ..., 0. , 0. , 5. ],\n",
       "       [5.3, 0.3, 0.3, ..., 0.3, 0.3, 5.3]])"
      ]
     },
     "execution_count": 9,
     "metadata": {},
     "output_type": "execute_result"
    }
   ],
   "source": [
    "g"
   ]
  },
  {
   "cell_type": "code",
   "execution_count": 5,
   "metadata": {},
   "outputs": [
    {
     "data": {
      "text/plain": [
       "0.0006844779565051552"
      ]
     },
     "execution_count": 5,
     "metadata": {},
     "output_type": "execute_result"
    }
   ],
   "source": [
    "u[1:-1,1:-1]\n",
    "u[8,8]"
   ]
  },
  {
   "cell_type": "code",
   "execution_count": null,
   "metadata": {},
   "outputs": [
    {
     "name": "stdout",
     "output_type": "stream",
     "text": [
      "[[ 4. -1.  0. ...  0.  0.  0.]\n",
      " [-1.  4. -1. ...  0.  0.  0.]\n",
      " [ 0. -1.  4. ...  0.  0.  0.]\n",
      " ...\n",
      " [ 0.  0.  0. ...  4. -1.  0.]\n",
      " [ 0.  0.  0. ... -1.  4. -1.]\n",
      " [ 0.  0.  0. ...  0.  0.  4.]]\n"
     ]
    }
   ],
   "source": [
    "u_hh = poisson_solver(fidelity*6,u_0_x,u_1_x,u_y_0,u_y_1,u_dirac)\n",
    "plt.pcolormesh(np.flipud(u_hh))\n",
    "plt.xlabel('x')\n",
    "plt.ylabel('y')\n",
    "plt.title('2-D Poisson')\n",
    "plt.show()"
   ]
  },
  {
   "cell_type": "code",
   "execution_count": null,
   "metadata": {},
   "outputs": [],
   "source": [
    "# Interpolate onto higher mesh grid\n",
    "x = np.linspace(0,1,fidelity)\n",
    "y = np.linspace(0,1,fidelity)\n",
    "high_res_u = scipy.interpolate.interp2d(x,y,u,kind='cubic')\n",
    "\n",
    "# Higher mesh test points\n",
    "x_h = np.linspace(0,1,fidelity*6)\n",
    "y_h = np.linspace(0,1,fidelity*6)\n",
    "u_h = high_res_u(x_h,y_h)"
   ]
  },
  {
   "cell_type": "code",
   "execution_count": null,
   "metadata": {},
   "outputs": [],
   "source": [
    "print(u.shape)\n",
    "print(u_h.shape)"
   ]
  },
  {
   "cell_type": "code",
   "execution_count": null,
   "metadata": {},
   "outputs": [],
   "source": [
    "plt.pcolormesh(np.flipud(u_h))\n",
    "plt.xlabel('x')\n",
    "plt.ylabel('y')\n",
    "plt.title('2-D Poisson (with interpolation onto higher mesh grid)')\n",
    "plt.show()"
   ]
  },
  {
   "cell_type": "code",
   "execution_count": null,
   "metadata": {},
   "outputs": [],
   "source": []
  }
 ],
 "metadata": {
  "kernelspec": {
   "display_name": "Python 3",
   "language": "python",
   "name": "python3"
  },
  "language_info": {
   "codemirror_mode": {
    "name": "ipython",
    "version": 3
   },
   "file_extension": ".py",
   "mimetype": "text/x-python",
   "name": "python",
   "nbconvert_exporter": "python",
   "pygments_lexer": "ipython3",
   "version": "3.7.13"
  }
 },
 "nbformat": 4,
 "nbformat_minor": 4
}
