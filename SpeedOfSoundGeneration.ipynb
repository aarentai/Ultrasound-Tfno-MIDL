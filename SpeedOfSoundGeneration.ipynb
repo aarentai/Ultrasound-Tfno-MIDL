{
 "cells": [
  {
   "cell_type": "code",
   "execution_count": 4,
   "metadata": {},
   "outputs": [],
   "source": [
    "import numpy as np\n",
    "import SimpleITK as sitk\n",
    "\n",
    "from itkwidgets import view\n",
    "from scipy.ndimage import zoom\n",
    "from scipy.io import savemat, loadmat\n",
    "from matplotlib import pyplot as plt\n",
    "from tqdm.notebook import tqdm as tqdm\n",
    "sys.path.append('Packages')\n",
    "from data import convert\n",
    "\n",
    "%matplotlib widget"
   ]
  },
  {
   "cell_type": "markdown",
   "metadata": {},
   "source": [
    "## Gaussian random field generation"
   ]
  },
  {
   "cell_type": "code",
   "execution_count": 5,
   "metadata": {},
   "outputs": [],
   "source": [
    "def fftIndgen(n):\n",
    "    a = list(range(0, int(n/2+1)))\n",
    "    b = list(range(1, int(n/2)))\n",
    "    b = b[::-1]\n",
    "    b = [-i for i in b]\n",
    "    return a + b\n",
    "\n",
    "def gaussian_random_field(Pk = lambda k : k**-3.0, size = 100):\n",
    "    def Pk2(kx, ky):\n",
    "        if kx == 0 and ky == 0:\n",
    "            return 0.0\n",
    "        return np.sqrt(Pk(np.sqrt(kx**2 + ky**2)))\n",
    "    noise = np.fft.fft2(np.random.normal(size = (size, size)))\n",
    "    amplitude = np.zeros((size,size))\n",
    "    for i, kx in enumerate(fftIndgen(size)):\n",
    "        for j, ky in enumerate(fftIndgen(size)):            \n",
    "            amplitude[i, j] = Pk2(kx, ky)\n",
    "    return np.fft.ifft2(noise * amplitude)"
   ]
  },
  {
   "cell_type": "code",
   "execution_count": 8,
   "metadata": {
    "scrolled": true
   },
   "outputs": [
    {
     "data": {
      "application/vnd.jupyter.widget-view+json": {
       "model_id": "ff0f2d9b3d2c4f82b42294dddb058f88",
       "version_major": 2,
       "version_minor": 0
      },
      "text/plain": [
       "  0%|          | 0/200 [00:00<?, ?it/s]"
      ]
     },
     "metadata": {},
     "output_type": "display_data"
    }
   ],
   "source": [
    "size, sample_num = 128, 200\n",
    "grf_batch = np.zeros((sample_num,size,size))\n",
    "for i in tqdm(range(sample_num)):\n",
    "    alpha = -2.3\n",
    "    out = gaussian_random_field(Pk = lambda k: k**alpha, size=size)\n",
    "    grf_batch[i] = out.real\n",
    "\n",
    "savemat(f'grf/grf_{abs(alpha)}_size{size}_num{sample_num}.mat', {\"grf\": grf_batch})"
   ]
  },
  {
   "cell_type": "code",
   "execution_count": 9,
   "metadata": {},
   "outputs": [
    {
     "data": {
      "application/vnd.jupyter.widget-view+json": {
       "model_id": "6c48bc25c8034aca8573c1f5a634ce1a",
       "version_major": 2,
       "version_minor": 0
      },
      "text/plain": [
       "Canvas(toolbar=Toolbar(toolitems=[('Home', 'Reset original view', 'home', 'home'), ('Back', 'Back to previous …"
      ]
     },
     "metadata": {},
     "output_type": "display_data"
    },
    {
     "data": {
      "text/plain": [
       "<matplotlib.image.AxesImage at 0x7f21bc596ad0>"
      ]
     },
     "execution_count": 9,
     "metadata": {},
     "output_type": "execute_result"
    }
   ],
   "source": [
    "plt.figure()\n",
    "plt.imshow(grf_batch[0], interpolation='none')"
   ]
  },
  {
   "cell_type": "markdown",
   "metadata": {},
   "source": [
    "## Breast phantom generation"
   ]
  },
  {
   "cell_type": "code",
   "execution_count": 3,
   "metadata": {},
   "outputs": [],
   "source": [
    "# path = '/home/sci/hdai/Projects/Dataset/Ultrasound/Phantom/Neg_07_Left'\n",
    "\n",
    "# save_name = f'{path}/PreData_Interp.nhdr'\n",
    "# predata_interp = loadmat(f'{path}/PreData_Interp.mat')['preData']\n",
    "# sitk.WriteImage(sitk.GetImageFromArray(predata_interp), save_name)\n",
    "\n",
    "# save_name = f'{path}/PostData_Interp.nhdr'\n",
    "# postdata_interp = loadmat(f'{path}/PostData_Interp.mat')['postData']\n",
    "# sitk.WriteImage(sitk.GetImageFromArray(postdata_interp), save_name)\n",
    "\n",
    "# save_name = f'{path}/MergedPhantom.nhdr'\n",
    "# merged_phantom = loadmat(f'{path}/MergedPhantom.mat')['phan']\n",
    "# sitk.WriteImage(sitk.GetImageFromArray(merged_phantom), save_name)\n",
    "\n",
    "# h, w, d = predata_interp.shape"
   ]
  },
  {
   "cell_type": "code",
   "execution_count": 2,
   "metadata": {},
   "outputs": [],
   "source": [
    "subject_name = 'Neg_47_Left'\n",
    "path = f'/home/sci/hdai/Projects/Dataset/Ultrasound/Phantom/{subject_name}'\n",
    "\n",
    "predata_interp = convert.read_nhdr(f'{path}/PreData_Interp.nhdr', as_type='numpy')\n",
    "postdata_interp = convert.read_nhdr(f'{path}/PostData_Interp.nhdr', as_type='numpy')\n",
    "merged_phantom = convert.read_nhdr(f'{path}/MergedPhantom.nhdr', as_type='numpy')\n",
    "\n",
    "h, w, d = predata_interp.shape"
   ]
  },
  {
   "cell_type": "code",
   "execution_count": 3,
   "metadata": {},
   "outputs": [
    {
     "data": {
      "application/vnd.jupyter.widget-view+json": {
       "model_id": "9f07f246afd2439ea714778d813e0e80",
       "version_major": 2,
       "version_minor": 0
      },
      "text/plain": [
       "Canvas(toolbar=Toolbar(toolitems=[('Home', 'Reset original view', 'home', 'home'), ('Back', 'Back to previous …"
      ]
     },
     "metadata": {},
     "output_type": "display_data"
    },
    {
     "data": {
      "text/plain": [
       "<matplotlib.image.AxesImage at 0x7fdd77b84d90>"
      ]
     },
     "execution_count": 3,
     "metadata": {},
     "output_type": "execute_result"
    }
   ],
   "source": [
    "slice_id = h//2\n",
    "plt.figure(figsize=(9,3))\n",
    "plt.subplot(1, 3, 1)\n",
    "plt.imshow(predata_interp[slice_id])\n",
    "plt.subplot(1, 3, 2)\n",
    "plt.imshow(postdata_interp[slice_id])\n",
    "plt.subplot(1, 3, 3)\n",
    "plt.imshow(merged_phantom[slice_id])"
   ]
  },
  {
   "cell_type": "code",
   "execution_count": 6,
   "metadata": {},
   "outputs": [],
   "source": [
    "desired_length, spared_length = 80, 128\n",
    "bazel = int((spared_length-desired_length)/2)\n",
    "predata_interp_scaled = zoom(predata_interp, (desired_length/h, desired_length/w, desired_length/d))\n",
    "postdata_interp_scaled = zoom(postdata_interp, (desired_length/h, desired_length/w, desired_length/d))\n",
    "merged_phantom_scaled = zoom(merged_phantom, (desired_length/h, desired_length/w, desired_length/d))\n",
    "\n",
    "predata_interp_spared = np.zeros((spared_length,spared_length,spared_length))\n",
    "predata_interp_spared[bazel:desired_length+bazel,bazel:desired_length+bazel,bazel:desired_length+bazel] = predata_interp_scaled\n",
    "postdata_interp_spared = np.zeros((spared_length,spared_length,spared_length))\n",
    "postdata_interp_spared[bazel:desired_length+bazel,bazel:desired_length+bazel,bazel:desired_length+bazel] = postdata_interp_scaled\n",
    "merged_phantom_spared = np.zeros((spared_length,spared_length,spared_length))\n",
    "merged_phantom_spared[bazel:desired_length+bazel,bazel:desired_length+bazel,bazel:desired_length+bazel] = merged_phantom_scaled"
   ]
  },
  {
   "cell_type": "code",
   "execution_count": 7,
   "metadata": {},
   "outputs": [
    {
     "data": {
      "application/vnd.jupyter.widget-view+json": {
       "model_id": "483d21e6acff4aa0859b14b6d5d3911c",
       "version_major": 2,
       "version_minor": 0
      },
      "text/plain": [
       "Viewer(geometries=[], gradient_opacity=0.22, point_sets=[], rendered_image=<itk.itkImagePython.itkImageD3; pro…"
      ]
     },
     "metadata": {},
     "output_type": "display_data"
    }
   ],
   "source": [
    "mask = np.where(merged_phantom_spared==0,0,1)\n",
    "postdata_interp_final = postdata_interp_spared*mask+(1-mask)*1500\n",
    "view(postdata_interp_final)"
   ]
  },
  {
   "cell_type": "code",
   "execution_count": 12,
   "metadata": {},
   "outputs": [
    {
     "data": {
      "application/vnd.jupyter.widget-view+json": {
       "model_id": "f0c1b593594645549a63e5168851535a",
       "version_major": 2,
       "version_minor": 0
      },
      "text/plain": [
       "Canvas(toolbar=Toolbar(toolitems=[('Home', 'Reset original view', 'home', 'home'), ('Back', 'Back to previous …"
      ]
     },
     "metadata": {},
     "output_type": "display_data"
    },
    {
     "data": {
      "text/plain": [
       "<matplotlib.colorbar.Colorbar at 0x7fdd6b304e10>"
      ]
     },
     "execution_count": 12,
     "metadata": {},
     "output_type": "execute_result"
    }
   ],
   "source": [
    "plt.figure()\n",
    "plt.imshow(postdata_interp_final[64], cmap='rainbow')\n",
    "plt.colorbar()"
   ]
  },
  {
   "cell_type": "code",
   "execution_count": 8,
   "metadata": {},
   "outputs": [
    {
     "data": {
      "application/vnd.jupyter.widget-view+json": {
       "model_id": "a8bf6b8c6623466ea336bc6c59c30407",
       "version_major": 2,
       "version_minor": 0
      },
      "text/plain": [
       "Viewer(geometries=[], gradient_opacity=0.22, point_sets=[], rendered_image=<itk.itkImagePython.itkImageD3; pro…"
      ]
     },
     "metadata": {},
     "output_type": "display_data"
    }
   ],
   "source": [
    "average_value = np.zeros(7)\n",
    "average_value[0] = 1500\n",
    "for i in range(1,7):\n",
    "    average_value[i] = np.sum(np.where(merged_phantom_spared==i,1,0)*postdata_interp_spared)/np.sum(np.where(merged_phantom_spared==i,1,0))\n",
    "    \n",
    "merged_phantom_final = np.zeros_like(merged_phantom_spared)\n",
    "for i in range(0,7):\n",
    "    merged_phantom_final += np.where(merged_phantom_spared==i,1,0)*average_value[i]\n",
    "    \n",
    "view(merged_phantom_final)"
   ]
  },
  {
   "cell_type": "code",
   "execution_count": 13,
   "metadata": {},
   "outputs": [
    {
     "data": {
      "application/vnd.jupyter.widget-view+json": {
       "model_id": "e199366798ea4fc88fc8d7ca52348d09",
       "version_major": 2,
       "version_minor": 0
      },
      "text/plain": [
       "  0%|          | 0/3 [00:00<?, ?it/s]"
      ]
     },
     "metadata": {},
     "output_type": "display_data"
    }
   ],
   "source": [
    "phantom_list, postdata_list = [], []\n",
    "\n",
    "for subject_name in tqdm(['Neg_07_Left','Neg_35_Left','Neg_47_Left']):\n",
    "    path = f'/home/sci/hdai/Projects/Dataset/Ultrasound/Phantom/{subject_name}'\n",
    "\n",
    "    predata_interp = convert.read_nhdr(f'{path}/PreData_Interp.nhdr', as_type='numpy')\n",
    "    postdata_interp = convert.read_nhdr(f'{path}/PostData_Interp.nhdr', as_type='numpy')\n",
    "    merged_phantom = convert.read_nhdr(f'{path}/MergedPhantom.nhdr', as_type='numpy')\n",
    "\n",
    "    h, w, d = predata_interp.shape\n",
    "    \n",
    "    desired_length, spared_length = 80, 128\n",
    "    bazel = int((spared_length-desired_length)/2)\n",
    "    predata_interp_scaled = zoom(predata_interp, (desired_length/h, desired_length/w, desired_length/d))\n",
    "    postdata_interp_scaled = zoom(postdata_interp, (desired_length/h, desired_length/w, desired_length/d))\n",
    "    merged_phantom_scaled = zoom(merged_phantom, (desired_length/h, desired_length/w, desired_length/d))\n",
    "\n",
    "    predata_interp_spared = np.zeros((spared_length,spared_length,spared_length))\n",
    "    predata_interp_spared[bazel:desired_length+bazel,bazel:desired_length+bazel,bazel:desired_length+bazel] = predata_interp_scaled\n",
    "    postdata_interp_spared = np.zeros((spared_length,spared_length,spared_length))\n",
    "    postdata_interp_spared[bazel:desired_length+bazel,bazel:desired_length+bazel,bazel:desired_length+bazel] = postdata_interp_scaled\n",
    "    merged_phantom_spared = np.zeros((spared_length,spared_length,spared_length))\n",
    "    merged_phantom_spared[bazel:desired_length+bazel,bazel:desired_length+bazel,bazel:desired_length+bazel] = merged_phantom_scaled\n",
    "    \n",
    "    mask = np.where(merged_phantom_spared==0,0,1)\n",
    "    postdata_interp_final = postdata_interp_spared*mask+(1-mask)*1500\n",
    "\n",
    "    average_value = np.zeros(7)\n",
    "    average_value[0] = 1500\n",
    "    for i in range(1,7):\n",
    "        average_value[i] = np.sum(np.where(merged_phantom_spared==i,1,0)*postdata_interp_spared)/np.sum(np.where(merged_phantom_spared==i,1,0))\n",
    "\n",
    "    merged_phantom_final = np.zeros_like(merged_phantom_spared)\n",
    "    for i in range(0,7):\n",
    "        merged_phantom_final += np.where(merged_phantom_spared==i,1,0)*average_value[i]\n",
    "        \n",
    "    for i in range(40,101,3):\n",
    "        phantom_list.append(merged_phantom_final[i])\n",
    "        postdata_list.append(postdata_interp_final[i])\n",
    "        \n",
    "phantom = np.stack(phantom_list,axis=0)\n",
    "postdata = np.stack(postdata_list,axis=0)"
   ]
  },
  {
   "cell_type": "code",
   "execution_count": 14,
   "metadata": {},
   "outputs": [],
   "source": [
    "savemat(f'/home/sci/hdai/Projects/Dataset/Ultrasound/Phantom/phantom_size128_num63.mat', {\"phantom\": phantom})\n",
    "savemat(f'/home/sci/hdai/Projects/Dataset/Ultrasound/Phantom/postdata_size128_num63.mat', {\"postdata\": postdata})"
   ]
  },
  {
   "cell_type": "code",
   "execution_count": 15,
   "metadata": {},
   "outputs": [
    {
     "data": {
      "application/vnd.jupyter.widget-view+json": {
       "model_id": "5fa6ee0c8e6948bd82c8e73461bb234a",
       "version_major": 2,
       "version_minor": 0
      },
      "text/plain": [
       "Viewer(geometries=[], gradient_opacity=0.22, point_sets=[], rendered_image=<itk.itkImagePython.itkImageD3; pro…"
      ]
     },
     "metadata": {},
     "output_type": "display_data"
    }
   ],
   "source": [
    "view(postdata)"
   ]
  }
 ],
 "metadata": {
  "kernelspec": {
   "display_name": "pytorch10",
   "language": "python",
   "name": "pytorch10"
  },
  "language_info": {
   "codemirror_mode": {
    "name": "ipython",
    "version": 3
   },
   "file_extension": ".py",
   "mimetype": "text/x-python",
   "name": "python",
   "nbconvert_exporter": "python",
   "pygments_lexer": "ipython3",
   "version": "3.7.13"
  }
 },
 "nbformat": 4,
 "nbformat_minor": 4
}
