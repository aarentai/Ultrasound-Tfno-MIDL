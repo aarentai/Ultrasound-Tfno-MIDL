{
 "cells": [
  {
   "cell_type": "code",
   "execution_count": null,
   "metadata": {},
   "outputs": [],
   "source": [
    "import torch, sys, os, random, json, time\n",
    "import matplotlib.pyplot as plt\n",
    "import numpy as np\n",
    "\n",
    "from dataset import *\n",
    "from scipy.ndimage import zoom\n",
    "from torch.utils.data import Dataset\n",
    "from torch.utils.data import DataLoader\n",
    "from neuralop.models import TFNO\n",
    "from neuralop.utils import count_params\n",
    "from scipy.io import savemat, loadmat\n",
    "from tqdm import tqdm\n",
    "\n",
    "%matplotlib widget"
   ]
  },
  {
   "cell_type": "code",
   "execution_count": null,
   "metadata": {},
   "outputs": [],
   "source": [
    "def create_circular_mask(h, w, center=None, radius=None):\n",
    "\n",
    "    if center is None: # use the middle of the image\n",
    "        center = (int(w/2)-0.5, int(h/2)-0.5)\n",
    "    if radius is None: # use the smallest distance between the center and image walls\n",
    "        radius = min(center[0], center[1], w-center[0], h-center[1])\n",
    "\n",
    "    Y, X = np.ogrid[:h, :w]\n",
    "    dist_from_center = np.sqrt((X - center[0])**2 + (Y-center[1])**2)\n",
    "\n",
    "    mask = dist_from_center <= radius\n",
    "    return mask\n",
    "\n",
    "img = np.ones((128,128))\n",
    "h, w = img.shape[:2]\n",
    "mask = create_circular_mask(h, w, radius = 40)\n",
    "masked_img = img.copy()\n",
    "masked_img[~mask] = 0"
   ]
  },
  {
   "cell_type": "code",
   "execution_count": null,
   "metadata": {},
   "outputs": [],
   "source": [
    "mode = 'gpu'\n",
    "config = 'noise0'\n",
    "init_features = 32\n",
    "model_name = f'unet_{init_features}'\n",
    "correlation = 'high'\n",
    "resolution = 128\n",
    "\n",
    "if mode=='gpu':\n",
    "    device = torch.device('cuda' if torch.cuda.is_available() else 'cpu')\n",
    "    # after switch device, you need restart the kernel\n",
    "    torch.cuda.set_device(0)\n",
    "    torch.set_default_tensor_type('torch.cuda.FloatTensor')\n",
    "else:\n",
    "    device = torch.device('cpu')\n",
    "    torch.set_default_dtype(torch.float32)\n",
    "\n",
    "model = torch.hub.load('mateuszbuda/brain-segmentation-pytorch', \n",
    "                       'unet', in_channels=3, out_channels=1, \n",
    "                       init_features=init_features, pretrained=False)\n",
    "    \n",
    "output_dir = f'/home/sci/hdai/Projects/UltrasoundTfno/Checkpoints_big/{model_name}_grf{resolution}_{correlation}_{config}'\n",
    "if not os.path.isdir(output_dir):\n",
    "    os.mkdir(output_dir)\n",
    "    \n",
    "data_path = '/home/sci/hdai/Projects/Datasets/Ultrasound/GRF/mats'"
   ]
  },
  {
   "cell_type": "markdown",
   "metadata": {},
   "source": [
    "## A. Training"
   ]
  },
  {
   "cell_type": "code",
   "execution_count": null,
   "metadata": {},
   "outputs": [],
   "source": [
    "new_split = False\n",
    "save_model = True\n",
    "resume = False\n",
    "n_epochs = 10001\n",
    "start_epoch_num = 1001\n",
    "log_test_interval = 500\n",
    "learning_rate = 1e-3\n",
    "training_loss_list, testing_loss_list = [], []\n",
    "\n",
    "training_subset_id_list = random.sample(range(0,200),160)\n",
    "testing_subset_id_list = [item for item in range(0,200) if item not in training_subset_id_list]\n",
    "\n",
    "if new_split:\n",
    "    with open(f'/home/sci/hdai/Projects/UltrasoundTfno/Checkpoints_big/training_subset_id_list.json', \"w\") as fp:\n",
    "        json.dump(training_subset_id_list, fp)\n",
    "    with open(f'/home/sci/hdai/Projects/UltrasoundTfno/Checkpoints_big/testing_subset_id_list.json', \"w\") as fp:\n",
    "        json.dump(testing_subset_id_list, fp)\n",
    "else:\n",
    "    with open(f'/home/sci/hdai/Projects/UltrasoundTfno/Checkpoints_big/training_subset_id_list.json', \"rb\") as fp:\n",
    "        training_subset_id_list = json.load(fp)\n",
    "    with open(f'/home/sci/hdai/Projects/UltrasoundTfno/Checkpoints_big/testing_subset_id_list.json', \"rb\") as fp:\n",
    "        testing_subset_id_list = json.load(fp)"
   ]
  },
  {
   "cell_type": "code",
   "execution_count": null,
   "metadata": {
    "scrolled": false
   },
   "outputs": [],
   "source": [
    "model = model.to(device)\n",
    "n_params = count_params(model)\n",
    "print(f'\\nOur model has {n_params} parameters.')\n",
    "print('\\n### MODEL ###\\n', model)\n",
    "\n",
    "if resume:\n",
    "    checkpoint = torch.load(f'{output_dir}/epoch_{start_epoch_num-1}_checkpoints.pth.tar')\n",
    "    model.load_state_dict(checkpoint['model_state_dict'])\n",
    "else:\n",
    "    start_epoch_num = 0\n",
    "        \n",
    "training_dataset = PairDataset(data_path, config=config, correlation=correlation, subset_idx_list=training_subset_id_list)\n",
    "training_dataloader = DataLoader(training_dataset, batch_size=len(training_subset_id_list), shuffle=False, num_workers=0)\n",
    "print(training_dataset.subset_idx_list)\n",
    "\n",
    "testing_dataset = PairDataset(data_path, config=config, correlation=correlation, subset_idx_list=testing_subset_id_list)\n",
    "testing_dataloader = DataLoader(testing_dataset, batch_size=len(testing_subset_id_list), shuffle=False, num_workers=0)\n",
    "print(testing_dataset.subset_idx_list)\n",
    "\n",
    "optimizer = torch.optim.Adam(model.parameters(), lr=learning_rate, weight_decay=0)\n",
    "scheduler = torch.optim.lr_scheduler.ReduceLROnPlateau(optimizer, mode='min', factor=0.5, patience=10)\n",
    "criterion = torch.nn.MSELoss()"
   ]
  },
  {
   "cell_type": "code",
   "execution_count": null,
   "metadata": {
    "scrolled": true
   },
   "outputs": [],
   "source": [
    "model.train()\n",
    "\n",
    "for epoch in tqdm(range(start_epoch_num, start_epoch_num+n_epochs)):\n",
    "    epoch_loss = 0\n",
    "    for i, sample in enumerate(training_dataloader):\n",
    "        x, y_true = sample['input'].to(device), sample['output'].to(device)\n",
    "        y_pred = model(x)\n",
    "        optimizer.zero_grad(set_to_none=True)\n",
    "        training_loss = criterion(y_pred, y_true)\n",
    "        \n",
    "        training_loss.backward()\n",
    "        optimizer.step()\n",
    "        epoch_loss += training_loss.item()\n",
    "        \n",
    "    with torch.no_grad():\n",
    "        for i, sample in enumerate(testing_dataloader):\n",
    "            x, y_true = sample['input'].to(device), sample['output'].to(device)\n",
    "            y_pred = model(x)\n",
    "        testing_loss = criterion(y_pred, y_true)\n",
    "    \n",
    "    training_loss_list.append(epoch_loss)\n",
    "    testing_loss_list.append(testing_loss.item())\n",
    "    scheduler.step(epoch_loss)\n",
    "\n",
    "    if epoch%log_test_interval==0: \n",
    "        print(f'epoch {epoch} MSELoss: {epoch_loss}')\n",
    "        if save_model:\n",
    "            torch.save({\n",
    "            'epoch': epoch,\n",
    "            'model_state_dict': model.state_dict(),\n",
    "            'optimizer_state_dict': optimizer.state_dict(),\n",
    "            'loss': epoch_loss,\n",
    "            }, f'{output_dir}/epoch_{epoch}_checkpoints.pth.tar')\n",
    "            \n",
    "with open(f'{output_dir}/training_loss.json', \"w\") as fp:\n",
    "    json.dump(training_loss_list, fp)\n",
    "with open(f'{output_dir}/testing_loss.json', \"w\") as fp:\n",
    "    json.dump(testing_loss_list, fp)"
   ]
  },
  {
   "cell_type": "markdown",
   "metadata": {},
   "source": [
    "## B. Inference"
   ]
  },
  {
   "cell_type": "code",
   "execution_count": null,
   "metadata": {},
   "outputs": [],
   "source": [
    "epoch = 10000\n",
    "checkpoint = torch.load(f'{output_dir}/epoch_{epoch}_checkpoints.pth.tar')\n",
    "model.load_state_dict(checkpoint['model_state_dict'])\n",
    "model = model.to(device)"
   ]
  },
  {
   "cell_type": "markdown",
   "metadata": {},
   "source": [
    "### B.1 Loss trend"
   ]
  },
  {
   "cell_type": "code",
   "execution_count": null,
   "metadata": {},
   "outputs": [],
   "source": [
    "plt.figure(figsize=(5,4))\n",
    "plt.xlabel('Epochs', fontsize=14)\n",
    "plt.ylabel('Loss', fontsize=14)\n",
    "plt.plot(training_loss_list,color='#ffb901',linewidth=3,label='Training set')\n",
    "plt.plot(testing_loss_list,color='#f25022',linewidth=3,label='Testing set')\n",
    "plt.yscale('log')\n",
    "plt.legend()\n",
    "\n",
    "plt.savefig(f'{output_dir}/{model_name}_loss_trend_{correlation}_{config}.pdf', bbox_inches='tight', dpi=300)"
   ]
  },
  {
   "cell_type": "markdown",
   "metadata": {},
   "source": [
    "### B.2 Test samples"
   ]
  },
  {
   "cell_type": "code",
   "execution_count": null,
   "metadata": {
    "scrolled": true
   },
   "outputs": [],
   "source": [
    "out_list = []\n",
    "sample_num = 40\n",
    "\n",
    "testing_dataset = PairDataset(data_path, config=config, correlation=correlation, subset_idx_list=testing_subset_id_list)\n",
    "testing_dataloader = DataLoader(testing_dataset, batch_size=len(testing_subset_id_list), shuffle=False, num_workers=0)\n",
    "test_samples = testing_dataloader.dataset\n",
    "\n",
    "fig = plt.figure(figsize=(8, sample_num*2))\n",
    "    \n",
    "for index in range(sample_num):\n",
    "    data = test_samples[index]\n",
    "    x = data['input'].to(device)\n",
    "    y = data['output'].to(device)\n",
    "    abs_id = data['abs_id']\n",
    "    rel_id = data['rel_id']\n",
    "#     st = time.time()\n",
    "    out = model(x.unsqueeze(0))\n",
    "#     et = time.time()\n",
    "#     print(et-st)\n",
    "\n",
    "    ax1 = fig.add_subplot(sample_num, 3, index*3 + 1)\n",
    "    im1 = ax1.imshow(x[0].to('cpu'), cmap='viridis', vmin=0, vmax=1)\n",
    "    ax1.set_title(f'{abs_id}, {rel_id} TOF')\n",
    "    plt.colorbar(im1, ax=ax1)\n",
    "    plt.axis('off')\n",
    "\n",
    "    ax2 = fig.add_subplot(sample_num, 3, index*3 + 2)\n",
    "    im2 = ax2.imshow(y.to('cpu').squeeze(), cmap='viridis', vmin=0, vmax=1)\n",
    "    if index == 0: \n",
    "        ax2.set_title('Ground Truth SS')\n",
    "    plt.axis('off')\n",
    "\n",
    "    ax3 = fig.add_subplot(sample_num, 3, index*3 + 3)\n",
    "    im3 = ax3.imshow(out.to('cpu').squeeze().detach().numpy(), cmap='viridis', vmin=0, vmax=1)\n",
    "    out_list.append(out.to('cpu').squeeze().detach().numpy())\n",
    "    if index == 0: \n",
    "        ax3.set_title('Predicted SS')\n",
    "    plt.colorbar(im3, ax=ax3)\n",
    "    plt.axis('off')\n",
    "\n",
    "plt.tight_layout()\n",
    "plt.savefig(f'{output_dir}/{model_name}_test_{epoch}_{correlation}_{config}.pdf', dpi=300)"
   ]
  },
  {
   "cell_type": "markdown",
   "metadata": {},
   "source": [
    "### B.3 Train samples"
   ]
  },
  {
   "cell_type": "code",
   "execution_count": null,
   "metadata": {
    "scrolled": true
   },
   "outputs": [],
   "source": [
    "out_list = []\n",
    "sample_num = 80\n",
    "\n",
    "training_dataset = PairDataset(data_path, config=config, correlation=correlation, subset_idx_list=training_subset_id_list)\n",
    "training_dataloader = DataLoader(training_dataset, batch_size=len(training_subset_id_list), shuffle=False, num_workers=0)\n",
    "train_samples = training_dataloader.dataset\n",
    "\n",
    "fig = plt.figure(figsize=(8, sample_num*2))\n",
    "    \n",
    "for index in range(sample_num):\n",
    "    data = train_samples[index]\n",
    "    x = data['input'].to(device)\n",
    "    y = data['output'].to(device)\n",
    "    abs_id = data['abs_id']\n",
    "    rel_id = data['rel_id']\n",
    "    out = model(x.unsqueeze(0))\n",
    "\n",
    "    ax1 = fig.add_subplot(sample_num, 3, index*3 + 1)\n",
    "    im1 = ax1.imshow(x[0].to('cpu'), cmap='viridis', vmin=0, vmax=1)\n",
    "#     if index == 0: \n",
    "    ax1.set_title(f'{abs_id}, {rel_id} TOF')\n",
    "    plt.colorbar(im1, ax=ax1)\n",
    "    plt.axis('off')\n",
    "\n",
    "    ax2 = fig.add_subplot(sample_num, 3, index*3 + 2)\n",
    "    im2 = ax2.imshow(y.to('cpu').squeeze(), cmap='viridis', vmin=0, vmax=1)\n",
    "    if index == 0: \n",
    "        ax2.set_title('Ground Truth SS')\n",
    "    plt.axis('off')\n",
    "\n",
    "    ax3 = fig.add_subplot(sample_num, 3, index*3 + 3)\n",
    "    im3 = ax3.imshow(out.to('cpu').squeeze().detach().numpy(), cmap='viridis', vmin=0, vmax=1)\n",
    "    out_list.append(out.to('cpu').squeeze().detach().numpy())\n",
    "    if index == 0: \n",
    "        ax3.set_title('Predicted SS')\n",
    "    plt.colorbar(im3, ax=ax3)\n",
    "    plt.axis('off')\n",
    "\n",
    "plt.tight_layout()\n",
    "plt.savefig(f'{output_dir}/{model_name}_train_{epoch}_{correlation}_{config}.pdf', dpi=300)"
   ]
  },
  {
   "cell_type": "markdown",
   "metadata": {},
   "source": [
    "### B.4 Final train/test MSE"
   ]
  },
  {
   "cell_type": "code",
   "execution_count": null,
   "metadata": {},
   "outputs": [],
   "source": [
    "with torch.no_grad():\n",
    "    for i, sample in enumerate(training_dataloader):\n",
    "        x, y_true = sample['input'].to(device), sample['output'].to(device)\n",
    "        y_pred = model(x)\n",
    "\n",
    "stacked_mask = torch.stack([torch.from_numpy(masked_img).to(device)]*160,dim=0)\n",
    "y_true_masked = y_true.squeeze()*stacked_mask\n",
    "y_pred_masked = y_pred.squeeze()*stacked_mask\n",
    "\n",
    "mse_array = torch.sum(((y_true_masked-y_pred_masked))**2, (1, 2))/(resolution**2)#*torch.stack([mask]*20)\n",
    "l2 = np.linalg.norm(y_true_masked.cpu().numpy().flatten()-y_pred_masked.cpu().numpy().flatten(),2)/np.linalg.norm(y_true_masked.cpu().numpy().flatten(),2)\n",
    "with open(f'{output_dir}/final_train_mse.json', \"w\") as fp:\n",
    "    json.dump({'mse_mean':torch.mean(mse_array).item(), 'mse_std':torch.std(mse_array).item(), 'l2_rel_error': l2}, fp)\n",
    "print({'mse_mean':torch.mean(mse_array).item(), 'mse_std':torch.std(mse_array).item(), 'l2_rel_error': l2})"
   ]
  },
  {
   "cell_type": "code",
   "execution_count": null,
   "metadata": {},
   "outputs": [],
   "source": [
    "with torch.no_grad():\n",
    "    for i, sample in enumerate(testing_dataloader):\n",
    "        x, y_true = sample['input'].to(device), sample['output'].to(device)\n",
    "        y_pred = model(x)\n",
    "\n",
    "stacked_mask = torch.stack([torch.from_numpy(masked_img).to(device)]*40,dim=0)\n",
    "y_true_masked = y_true.squeeze()*stacked_mask\n",
    "y_pred_masked = y_pred.squeeze()*stacked_mask\n",
    "\n",
    "mse_array = torch.sum(((y_true_masked-y_pred_masked))**2, (1, 2))/(resolution**2)#*torch.stack([mask]*20)\n",
    "l2 = np.linalg.norm(y_true_masked.cpu().numpy().flatten()-y_pred_masked.cpu().numpy().flatten(),2)/np.linalg.norm(y_true_masked.cpu().numpy().flatten(),2)\n",
    "with open(f'{output_dir}/final_test_mse.json', \"w\") as fp:\n",
    "    json.dump({'mse_mean':torch.mean(mse_array).item(), 'mse_std':torch.std(mse_array).item(), 'l2_rel_error': l2}, fp)\n",
    "print({'mse_mean':torch.mean(mse_array).item(), 'mse_std':torch.std(mse_array).item(), 'l2_rel_error': l2})"
   ]
  },
  {
   "cell_type": "code",
   "execution_count": null,
   "metadata": {},
   "outputs": [],
   "source": []
  }
 ],
 "metadata": {
  "kernelspec": {
   "display_name": "fno",
   "language": "python",
   "name": "fno"
  },
  "language_info": {
   "codemirror_mode": {
    "name": "ipython",
    "version": 3
   },
   "file_extension": ".py",
   "mimetype": "text/x-python",
   "name": "python",
   "nbconvert_exporter": "python",
   "pygments_lexer": "ipython3",
   "version": "3.10.4"
  }
 },
 "nbformat": 4,
 "nbformat_minor": 4
}
