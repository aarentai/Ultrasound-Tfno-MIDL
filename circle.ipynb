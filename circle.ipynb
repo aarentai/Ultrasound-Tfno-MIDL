{
 "cells": [
  {
   "cell_type": "code",
   "execution_count": 1,
   "id": "liquid-number",
   "metadata": {},
   "outputs": [],
   "source": [
    "import numpy as np\n",
    "import matplotlib.pyplot as plt"
   ]
  },
  {
   "cell_type": "code",
   "execution_count": 2,
   "id": "incredible-circle",
   "metadata": {},
   "outputs": [],
   "source": [
    "def create_circular_mask(h, w, center=None, radius=None):\n",
    "\n",
    "    if center is None: # use the middle of the image\n",
    "        center = (int(w/2), int(h/2))\n",
    "    if radius is None: # use the smallest distance between the center and image walls\n",
    "        radius = min(center[0], center[1], w-center[0], h-center[1])\n",
    "\n",
    "    Y, X = np.ogrid[:h, :w]\n",
    "    dist_from_center = np.sqrt((X - center[0])**2 + (Y-center[1])**2)\n",
    "\n",
    "    mask = dist_from_center <= radius\n",
    "    return mask"
   ]
  },
  {
   "cell_type": "code",
   "execution_count": 3,
   "id": "tight-immunology",
   "metadata": {},
   "outputs": [],
   "source": [
    "img = np.ones((128,128))\n",
    "h, w = img.shape[:2]\n",
    "mask = create_circular_mask(h, w, radius = 40)\n",
    "masked_img = img.copy()\n",
    "masked_img[~mask] = 0"
   ]
  },
  {
   "cell_type": "code",
   "execution_count": 4,
   "id": "endangered-vertical",
   "metadata": {},
   "outputs": [
    {
     "data": {
      "text/plain": [
       "<matplotlib.image.AxesImage at 0x7fac98123a50>"
      ]
     },
     "execution_count": 4,
     "metadata": {},
     "output_type": "execute_result"
    },
    {
     "data": {
      "image/png": "[encoded data removed]",
      "text/plain": [
       "<Figure size 432x288 with 1 Axes>"
      ]
     },
     "metadata": {
      "needs_background": "light"
     },
     "output_type": "display_data"
    }
   ],
   "source": [
    "plt.imshow(masked_img)"
   ]
  },
  {
   "cell_type": "code",
   "execution_count": 1,
   "metadata": {},
   "outputs": [],
   "source": [
    "import os\n",
    "from tqdm.notebook import tqdm as tqdm"
   ]
  },
  {
   "cell_type": "code",
   "execution_count": 2,
   "id": "settled-maria",
   "metadata": {},
   "outputs": [
    {
     "data": {
      "application/vnd.jupyter.widget-view+json": {
       "model_id": "dc6dc4ad5e1d4bd5969f9b24137b8f84",
       "version_major": 2,
       "version_minor": 0
      },
      "text/plain": [
       "  0%|          | 0/200 [00:00<?, ?it/s]"
      ]
     },
     "metadata": {},
     "output_type": "display_data"
    }
   ],
   "source": [
    "# main_path = '/home/sci/hdai/Projects/Datasets/Ultrasound/GRF/mats'\n",
    "# for i in tqdm(range(101, 101+200)):\n",
    "#     os.rename(f'{main_path}/sound_speed/grf{i}_sound_speed.mat',f'{main_path}/sound_speed/grf_low{i-100}_sound_speed.mat')\n",
    "#     os.rename(f'{main_path}/tof_noise0/grf{i}_tof.mat',f'{main_path}/tof_noise0/grf_low{i-100}_tof.mat')\n",
    "#     for j in range(1,1+128):\n",
    "#         os.rename(f'{main_path}/distribution_pair/grf{i}_pos{j}_distribution_pair.mat',f'{main_path}/distribution_pair/grf_low{i-100}_pos{j}_distribution_pair.mat')"
   ]
  },
  {
   "cell_type": "code",
   "execution_count": 3,
   "metadata": {},
   "outputs": [
    {
     "data": {
      "application/vnd.jupyter.widget-view+json": {
       "model_id": "57b8b59354e049cfa946bfaa116141a3",
       "version_major": 2,
       "version_minor": 0
      },
      "text/plain": [
       "  0%|          | 0/73 [00:00<?, ?it/s]"
      ]
     },
     "metadata": {},
     "output_type": "display_data"
    }
   ],
   "source": [
    "# main_path = '/home/sci/hdai/Projects/Datasets/Ultrasound/GRF/mats'\n",
    "# for i in tqdm(range(1, 1+100)):\n",
    "#     os.rename(f'{main_path}/sound_speed/grf{i}_sound_speed.mat',f'{main_path}/sound_speed/grf_high{i}_sound_speed.mat')\n",
    "#     os.rename(f'{main_path}/tof_noise0/grf{i}_tof.mat',f'{main_path}/tof_noise0/grf_high{i}_tof.mat')\n",
    "#     for j in range(1,1+128):\n",
    "#         os.rename(f'{main_path}/distribution_pair/grf{i}_pos{j}_distribution_pair.mat',f'{main_path}/distribution_pair/grf_high{i}_pos{j}_distribution_pair.mat')\n",
    "                \n",
    "# for i in tqdm(range(328, 401)):\n",
    "#     os.rename(f'{main_path}/sound_speed/grf{i}_sound_speed.mat',f'{main_path}/sound_speed/grf_high{i-200}_sound_speed.mat')\n",
    "#     os.rename(f'{main_path}/tof_noise0/grf{i}_tof.mat',f'{main_path}/tof_noise0/grf_high{i-200}_tof.mat')\n",
    "#     for j in range(1,1+128):\n",
    "#         os.rename(f'{main_path}/distribution_pair/grf{i}_pos{j}_distribution_pair.mat',f'{main_path}/distribution_pair/grf_high{i-200}_pos{j}_distribution_pair.mat')"
   ]
  }
 ],
 "metadata": {
  "kernelspec": {
   "display_name": "Python 3",
   "language": "python",
   "name": "python3"
  },
  "language_info": {
   "codemirror_mode": {
    "name": "ipython",
    "version": 3
   },
   "file_extension": ".py",
   "mimetype": "text/x-python",
   "name": "python",
   "nbconvert_exporter": "python",
   "pygments_lexer": "ipython3",
   "version": "3.7.13"
  }
 },
 "nbformat": 4,
 "nbformat_minor": 5
}
